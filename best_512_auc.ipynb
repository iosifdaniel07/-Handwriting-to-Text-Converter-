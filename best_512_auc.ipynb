{
  "nbformat": 4,
  "nbformat_minor": 0,
  "metadata": {
    "colab": {
      "provenance": [],
      "machine_shape": "hm",
      "authorship_tag": "ABX9TyN8ppmBqD3VzXBs5n2Mq3w0",
      "include_colab_link": true
    },
    "kernelspec": {
      "name": "python3",
      "display_name": "Python 3"
    },
    "language_info": {
      "name": "python"
    }
  },
  "cells": [
    {
      "cell_type": "markdown",
      "metadata": {
        "id": "view-in-github",
        "colab_type": "text"
      },
      "source": [
        "<a href=\"https://colab.research.google.com/github/iosifdaniel07/-Handwriting-to-Text-Converter-/blob/main/best_512_auc.ipynb\" target=\"_parent\"><img src=\"https://colab.research.google.com/assets/colab-badge.svg\" alt=\"Open In Colab\"/></a>"
      ]
    },
    {
      "cell_type": "code",
      "execution_count": 3,
      "metadata": {
        "colab": {
          "base_uri": "https://localhost:8080/",
          "height": 1000
        },
        "id": "HSC6l-noKbnD",
        "outputId": "fed7b22e-1586-447d-8c03-a5034b7c3e40"
      },
      "outputs": [
        {
          "output_type": "stream",
          "name": "stdout",
          "text": [
            "Requirement already satisfied: gdown in /usr/local/lib/python3.11/dist-packages (5.2.0)\n",
            "Requirement already satisfied: beautifulsoup4 in /usr/local/lib/python3.11/dist-packages (from gdown) (4.13.4)\n",
            "Requirement already satisfied: filelock in /usr/local/lib/python3.11/dist-packages (from gdown) (3.18.0)\n",
            "Requirement already satisfied: requests[socks] in /usr/local/lib/python3.11/dist-packages (from gdown) (2.32.3)\n",
            "Requirement already satisfied: tqdm in /usr/local/lib/python3.11/dist-packages (from gdown) (4.67.1)\n",
            "Requirement already satisfied: soupsieve>1.2 in /usr/local/lib/python3.11/dist-packages (from beautifulsoup4->gdown) (2.7)\n",
            "Requirement already satisfied: typing-extensions>=4.0.0 in /usr/local/lib/python3.11/dist-packages (from beautifulsoup4->gdown) (4.13.2)\n",
            "Requirement already satisfied: charset-normalizer<4,>=2 in /usr/local/lib/python3.11/dist-packages (from requests[socks]->gdown) (3.4.1)\n",
            "Requirement already satisfied: idna<4,>=2.5 in /usr/local/lib/python3.11/dist-packages (from requests[socks]->gdown) (3.10)\n",
            "Requirement already satisfied: urllib3<3,>=1.21.1 in /usr/local/lib/python3.11/dist-packages (from requests[socks]->gdown) (2.4.0)\n",
            "Requirement already satisfied: certifi>=2017.4.17 in /usr/local/lib/python3.11/dist-packages (from requests[socks]->gdown) (2025.4.26)\n",
            "Requirement already satisfied: PySocks!=1.5.7,>=1.5.6 in /usr/local/lib/python3.11/dist-packages (from requests[socks]->gdown) (1.7.1)\n",
            "Requirement already satisfied: gdown in /usr/local/lib/python3.11/dist-packages (5.2.0)\n",
            "Requirement already satisfied: beautifulsoup4 in /usr/local/lib/python3.11/dist-packages (from gdown) (4.13.4)\n",
            "Requirement already satisfied: filelock in /usr/local/lib/python3.11/dist-packages (from gdown) (3.18.0)\n",
            "Requirement already satisfied: requests[socks] in /usr/local/lib/python3.11/dist-packages (from gdown) (2.32.3)\n",
            "Requirement already satisfied: tqdm in /usr/local/lib/python3.11/dist-packages (from gdown) (4.67.1)\n",
            "Requirement already satisfied: soupsieve>1.2 in /usr/local/lib/python3.11/dist-packages (from beautifulsoup4->gdown) (2.7)\n",
            "Requirement already satisfied: typing-extensions>=4.0.0 in /usr/local/lib/python3.11/dist-packages (from beautifulsoup4->gdown) (4.13.2)\n",
            "Requirement already satisfied: charset-normalizer<4,>=2 in /usr/local/lib/python3.11/dist-packages (from requests[socks]->gdown) (3.4.1)\n",
            "Requirement already satisfied: idna<4,>=2.5 in /usr/local/lib/python3.11/dist-packages (from requests[socks]->gdown) (3.10)\n",
            "Requirement already satisfied: urllib3<3,>=1.21.1 in /usr/local/lib/python3.11/dist-packages (from requests[socks]->gdown) (2.4.0)\n",
            "Requirement already satisfied: certifi>=2017.4.17 in /usr/local/lib/python3.11/dist-packages (from requests[socks]->gdown) (2025.4.26)\n",
            "Requirement already satisfied: PySocks!=1.5.7,>=1.5.6 in /usr/local/lib/python3.11/dist-packages (from requests[socks]->gdown) (1.7.1)\n",
            "Drive already mounted at /content/drive; to attempt to forcibly remount, call drive.mount(\"/content/drive\", force_remount=True).\n"
          ]
        },
        {
          "output_type": "stream",
          "name": "stderr",
          "text": [
            "/usr/local/lib/python3.11/dist-packages/keras/src/layers/rnn/rnn.py:200: UserWarning: Do not pass an `input_shape`/`input_dim` argument to a layer. When using Sequential models, prefer using an `Input(shape)` object as the first layer in the model instead.\n",
            "  super().__init__(**kwargs)\n"
          ]
        },
        {
          "output_type": "stream",
          "name": "stdout",
          "text": [
            "Epoch 1/50\n",
            "\n",
            "Epoch 1: loss improved from inf to 0.02161, saving model to best_model.h5\n"
          ]
        },
        {
          "output_type": "stream",
          "name": "stderr",
          "text": [
            "WARNING:absl:You are saving your model as an HDF5 file via `model.save()` or `keras.saving.save_model(model)`. This file format is considered legacy. We recommend using instead the native Keras format, e.g. `model.save('my_model.keras')` or `keras.saving.save_model(model, 'my_model.keras')`. \n"
          ]
        },
        {
          "output_type": "stream",
          "name": "stdout",
          "text": [
            "3669/3669 - 155s - 42ms/step - auc: 0.9979 - loss: 0.0216 - val_auc: 0.9988 - val_loss: 0.0069 - learning_rate: 1.0000e-03\n",
            "Epoch 2/50\n",
            "\n",
            "Epoch 2: loss improved from 0.02161 to 0.00595, saving model to best_model.h5\n"
          ]
        },
        {
          "output_type": "stream",
          "name": "stderr",
          "text": [
            "WARNING:absl:You are saving your model as an HDF5 file via `model.save()` or `keras.saving.save_model(model)`. This file format is considered legacy. We recommend using instead the native Keras format, e.g. `model.save('my_model.keras')` or `keras.saving.save_model(model, 'my_model.keras')`. \n"
          ]
        },
        {
          "output_type": "stream",
          "name": "stdout",
          "text": [
            "3669/3669 - 144s - 39ms/step - auc: 0.9995 - loss: 0.0059 - val_auc: 0.9998 - val_loss: 0.0040 - learning_rate: 1.0000e-03\n",
            "Epoch 3/50\n",
            "\n",
            "Epoch 3: loss improved from 0.00595 to 0.00435, saving model to best_model.h5\n"
          ]
        },
        {
          "output_type": "stream",
          "name": "stderr",
          "text": [
            "WARNING:absl:You are saving your model as an HDF5 file via `model.save()` or `keras.saving.save_model(model)`. This file format is considered legacy. We recommend using instead the native Keras format, e.g. `model.save('my_model.keras')` or `keras.saving.save_model(model, 'my_model.keras')`. \n"
          ]
        },
        {
          "output_type": "stream",
          "name": "stdout",
          "text": [
            "3669/3669 - 149s - 41ms/step - auc: 0.9998 - loss: 0.0044 - val_auc: 0.9998 - val_loss: 0.0033 - learning_rate: 1.0000e-03\n",
            "Epoch 4/50\n",
            "\n",
            "Epoch 4: loss improved from 0.00435 to 0.00367, saving model to best_model.h5\n"
          ]
        },
        {
          "output_type": "stream",
          "name": "stderr",
          "text": [
            "WARNING:absl:You are saving your model as an HDF5 file via `model.save()` or `keras.saving.save_model(model)`. This file format is considered legacy. We recommend using instead the native Keras format, e.g. `model.save('my_model.keras')` or `keras.saving.save_model(model, 'my_model.keras')`. \n"
          ]
        },
        {
          "output_type": "stream",
          "name": "stdout",
          "text": [
            "3669/3669 - 143s - 39ms/step - auc: 0.9998 - loss: 0.0037 - val_auc: 0.9998 - val_loss: 0.0030 - learning_rate: 1.0000e-03\n",
            "Epoch 5/50\n",
            "\n",
            "Epoch 5: loss improved from 0.00367 to 0.00321, saving model to best_model.h5\n"
          ]
        },
        {
          "output_type": "stream",
          "name": "stderr",
          "text": [
            "WARNING:absl:You are saving your model as an HDF5 file via `model.save()` or `keras.saving.save_model(model)`. This file format is considered legacy. We recommend using instead the native Keras format, e.g. `model.save('my_model.keras')` or `keras.saving.save_model(model, 'my_model.keras')`. \n"
          ]
        },
        {
          "output_type": "stream",
          "name": "stdout",
          "text": [
            "3669/3669 - 152s - 41ms/step - auc: 0.9998 - loss: 0.0032 - val_auc: 0.9997 - val_loss: 0.0033 - learning_rate: 1.0000e-03\n",
            "Epoch 6/50\n",
            "\n",
            "Epoch 6: loss improved from 0.00321 to 0.00294, saving model to best_model.h5\n"
          ]
        },
        {
          "output_type": "stream",
          "name": "stderr",
          "text": [
            "WARNING:absl:You are saving your model as an HDF5 file via `model.save()` or `keras.saving.save_model(model)`. This file format is considered legacy. We recommend using instead the native Keras format, e.g. `model.save('my_model.keras')` or `keras.saving.save_model(model, 'my_model.keras')`. \n"
          ]
        },
        {
          "output_type": "stream",
          "name": "stdout",
          "text": [
            "3669/3669 - 146s - 40ms/step - auc: 0.9999 - loss: 0.0029 - val_auc: 0.9999 - val_loss: 0.0024 - learning_rate: 1.0000e-03\n",
            "Epoch 7/50\n",
            "\n",
            "Epoch 7: loss improved from 0.00294 to 0.00268, saving model to best_model.h5\n"
          ]
        },
        {
          "output_type": "stream",
          "name": "stderr",
          "text": [
            "WARNING:absl:You are saving your model as an HDF5 file via `model.save()` or `keras.saving.save_model(model)`. This file format is considered legacy. We recommend using instead the native Keras format, e.g. `model.save('my_model.keras')` or `keras.saving.save_model(model, 'my_model.keras')`. \n"
          ]
        },
        {
          "output_type": "stream",
          "name": "stdout",
          "text": [
            "3669/3669 - 145s - 40ms/step - auc: 0.9999 - loss: 0.0027 - val_auc: 0.9999 - val_loss: 0.0024 - learning_rate: 1.0000e-03\n",
            "Epoch 8/50\n",
            "\n",
            "Epoch 8: loss improved from 0.00268 to 0.00233, saving model to best_model.h5\n"
          ]
        },
        {
          "output_type": "stream",
          "name": "stderr",
          "text": [
            "WARNING:absl:You are saving your model as an HDF5 file via `model.save()` or `keras.saving.save_model(model)`. This file format is considered legacy. We recommend using instead the native Keras format, e.g. `model.save('my_model.keras')` or `keras.saving.save_model(model, 'my_model.keras')`. \n"
          ]
        },
        {
          "output_type": "stream",
          "name": "stdout",
          "text": [
            "3669/3669 - 146s - 40ms/step - auc: 0.9999 - loss: 0.0023 - val_auc: 0.9999 - val_loss: 0.0019 - learning_rate: 1.0000e-03\n",
            "Epoch 9/50\n",
            "\n",
            "Epoch 9: loss improved from 0.00233 to 0.00220, saving model to best_model.h5\n"
          ]
        },
        {
          "output_type": "stream",
          "name": "stderr",
          "text": [
            "WARNING:absl:You are saving your model as an HDF5 file via `model.save()` or `keras.saving.save_model(model)`. This file format is considered legacy. We recommend using instead the native Keras format, e.g. `model.save('my_model.keras')` or `keras.saving.save_model(model, 'my_model.keras')`. \n"
          ]
        },
        {
          "output_type": "stream",
          "name": "stdout",
          "text": [
            "3669/3669 - 145s - 39ms/step - auc: 0.9999 - loss: 0.0022 - val_auc: 0.9999 - val_loss: 0.0019 - learning_rate: 1.0000e-03\n",
            "Epoch 10/50\n",
            "\n",
            "Epoch 10: loss improved from 0.00220 to 0.00207, saving model to best_model.h5\n"
          ]
        },
        {
          "output_type": "stream",
          "name": "stderr",
          "text": [
            "WARNING:absl:You are saving your model as an HDF5 file via `model.save()` or `keras.saving.save_model(model)`. This file format is considered legacy. We recommend using instead the native Keras format, e.g. `model.save('my_model.keras')` or `keras.saving.save_model(model, 'my_model.keras')`. \n"
          ]
        },
        {
          "output_type": "stream",
          "name": "stdout",
          "text": [
            "3669/3669 - 146s - 40ms/step - auc: 0.9999 - loss: 0.0021 - val_auc: 0.9999 - val_loss: 0.0019 - learning_rate: 1.0000e-03\n",
            "Epoch 11/50\n",
            "\n",
            "Epoch 11: loss improved from 0.00207 to 0.00200, saving model to best_model.h5\n"
          ]
        },
        {
          "output_type": "stream",
          "name": "stderr",
          "text": [
            "WARNING:absl:You are saving your model as an HDF5 file via `model.save()` or `keras.saving.save_model(model)`. This file format is considered legacy. We recommend using instead the native Keras format, e.g. `model.save('my_model.keras')` or `keras.saving.save_model(model, 'my_model.keras')`. \n"
          ]
        },
        {
          "output_type": "stream",
          "name": "stdout",
          "text": [
            "3669/3669 - 147s - 40ms/step - auc: 0.9999 - loss: 0.0020 - val_auc: 0.9999 - val_loss: 0.0018 - learning_rate: 1.0000e-03\n",
            "Epoch 12/50\n",
            "\n",
            "Epoch 12: loss improved from 0.00200 to 0.00193, saving model to best_model.h5\n"
          ]
        },
        {
          "output_type": "stream",
          "name": "stderr",
          "text": [
            "WARNING:absl:You are saving your model as an HDF5 file via `model.save()` or `keras.saving.save_model(model)`. This file format is considered legacy. We recommend using instead the native Keras format, e.g. `model.save('my_model.keras')` or `keras.saving.save_model(model, 'my_model.keras')`. \n"
          ]
        },
        {
          "output_type": "stream",
          "name": "stdout",
          "text": [
            "3669/3669 - 145s - 40ms/step - auc: 0.9999 - loss: 0.0019 - val_auc: 0.9999 - val_loss: 0.0014 - learning_rate: 1.0000e-03\n",
            "Epoch 13/50\n",
            "\n",
            "Epoch 13: loss improved from 0.00193 to 0.00180, saving model to best_model.h5\n"
          ]
        },
        {
          "output_type": "stream",
          "name": "stderr",
          "text": [
            "WARNING:absl:You are saving your model as an HDF5 file via `model.save()` or `keras.saving.save_model(model)`. This file format is considered legacy. We recommend using instead the native Keras format, e.g. `model.save('my_model.keras')` or `keras.saving.save_model(model, 'my_model.keras')`. \n"
          ]
        },
        {
          "output_type": "stream",
          "name": "stdout",
          "text": [
            "3669/3669 - 144s - 39ms/step - auc: 0.9999 - loss: 0.0018 - val_auc: 0.9999 - val_loss: 0.0020 - learning_rate: 1.0000e-03\n",
            "Epoch 14/50\n",
            "\n",
            "Epoch 14: loss improved from 0.00180 to 0.00177, saving model to best_model.h5\n"
          ]
        },
        {
          "output_type": "stream",
          "name": "stderr",
          "text": [
            "WARNING:absl:You are saving your model as an HDF5 file via `model.save()` or `keras.saving.save_model(model)`. This file format is considered legacy. We recommend using instead the native Keras format, e.g. `model.save('my_model.keras')` or `keras.saving.save_model(model, 'my_model.keras')`. \n"
          ]
        },
        {
          "output_type": "stream",
          "name": "stdout",
          "text": [
            "3669/3669 - 145s - 39ms/step - auc: 0.9999 - loss: 0.0018 - val_auc: 1.0000 - val_loss: 0.0014 - learning_rate: 1.0000e-03\n",
            "Epoch 15/50\n",
            "\n",
            "Epoch 15: loss did not improve from 0.00177\n",
            "3669/3669 - 147s - 40ms/step - auc: 0.9999 - loss: 0.0018 - val_auc: 0.9999 - val_loss: 0.0021 - learning_rate: 1.0000e-03\n",
            "Epoch 16/50\n",
            "\n",
            "Epoch 16: ReduceLROnPlateau reducing learning rate to 1.0000000474974512e-06.\n",
            "\n",
            "Epoch 16: loss improved from 0.00177 to 0.00175, saving model to best_model.h5\n"
          ]
        },
        {
          "output_type": "stream",
          "name": "stderr",
          "text": [
            "WARNING:absl:You are saving your model as an HDF5 file via `model.save()` or `keras.saving.save_model(model)`. This file format is considered legacy. We recommend using instead the native Keras format, e.g. `model.save('my_model.keras')` or `keras.saving.save_model(model, 'my_model.keras')`. \n"
          ]
        },
        {
          "output_type": "stream",
          "name": "stdout",
          "text": [
            "3669/3669 - 147s - 40ms/step - auc: 0.9999 - loss: 0.0017 - val_auc: 1.0000 - val_loss: 0.0018 - learning_rate: 1.0000e-03\n",
            "Epoch 17/50\n",
            "\n",
            "Epoch 17: loss improved from 0.00175 to 0.00136, saving model to best_model.h5\n"
          ]
        },
        {
          "output_type": "stream",
          "name": "stderr",
          "text": [
            "WARNING:absl:You are saving your model as an HDF5 file via `model.save()` or `keras.saving.save_model(model)`. This file format is considered legacy. We recommend using instead the native Keras format, e.g. `model.save('my_model.keras')` or `keras.saving.save_model(model, 'my_model.keras')`. \n"
          ]
        },
        {
          "output_type": "stream",
          "name": "stdout",
          "text": [
            "3669/3669 - 145s - 40ms/step - auc: 1.0000 - loss: 0.0014 - val_auc: 1.0000 - val_loss: 0.0012 - learning_rate: 1.0000e-06\n",
            "Epoch 18/50\n",
            "\n",
            "Epoch 18: loss improved from 0.00136 to 0.00111, saving model to best_model.h5\n"
          ]
        },
        {
          "output_type": "stream",
          "name": "stderr",
          "text": [
            "WARNING:absl:You are saving your model as an HDF5 file via `model.save()` or `keras.saving.save_model(model)`. This file format is considered legacy. We recommend using instead the native Keras format, e.g. `model.save('my_model.keras')` or `keras.saving.save_model(model, 'my_model.keras')`. \n"
          ]
        },
        {
          "output_type": "stream",
          "name": "stdout",
          "text": [
            "3669/3669 - 147s - 40ms/step - auc: 1.0000 - loss: 0.0011 - val_auc: 1.0000 - val_loss: 0.0011 - learning_rate: 1.0000e-06\n",
            "Epoch 19/50\n",
            "\n",
            "Epoch 19: loss improved from 0.00111 to 0.00110, saving model to best_model.h5\n"
          ]
        },
        {
          "output_type": "stream",
          "name": "stderr",
          "text": [
            "WARNING:absl:You are saving your model as an HDF5 file via `model.save()` or `keras.saving.save_model(model)`. This file format is considered legacy. We recommend using instead the native Keras format, e.g. `model.save('my_model.keras')` or `keras.saving.save_model(model, 'my_model.keras')`. \n"
          ]
        },
        {
          "output_type": "stream",
          "name": "stdout",
          "text": [
            "3669/3669 - 144s - 39ms/step - auc: 1.0000 - loss: 0.0011 - val_auc: 1.0000 - val_loss: 0.0011 - learning_rate: 1.0000e-06\n",
            "Epoch 20/50\n",
            "\n",
            "Epoch 20: loss did not improve from 0.00110\n",
            "3669/3669 - 145s - 39ms/step - auc: 1.0000 - loss: 0.0011 - val_auc: 1.0000 - val_loss: 0.0011 - learning_rate: 1.0000e-06\n",
            "Epoch 21/50\n",
            "\n",
            "Epoch 21: ReduceLROnPlateau reducing learning rate to 9.999999974752428e-10.\n",
            "\n",
            "Epoch 21: loss improved from 0.00110 to 0.00107, saving model to best_model.h5\n"
          ]
        },
        {
          "output_type": "stream",
          "name": "stderr",
          "text": [
            "WARNING:absl:You are saving your model as an HDF5 file via `model.save()` or `keras.saving.save_model(model)`. This file format is considered legacy. We recommend using instead the native Keras format, e.g. `model.save('my_model.keras')` or `keras.saving.save_model(model, 'my_model.keras')`. \n"
          ]
        },
        {
          "output_type": "stream",
          "name": "stdout",
          "text": [
            "3669/3669 - 146s - 40ms/step - auc: 1.0000 - loss: 0.0011 - val_auc: 1.0000 - val_loss: 0.0011 - learning_rate: 1.0000e-06\n",
            "Epoch 22/50\n",
            "\n",
            "Epoch 22: loss improved from 0.00107 to 0.00105, saving model to best_model.h5\n"
          ]
        },
        {
          "output_type": "stream",
          "name": "stderr",
          "text": [
            "WARNING:absl:You are saving your model as an HDF5 file via `model.save()` or `keras.saving.save_model(model)`. This file format is considered legacy. We recommend using instead the native Keras format, e.g. `model.save('my_model.keras')` or `keras.saving.save_model(model, 'my_model.keras')`. \n"
          ]
        },
        {
          "output_type": "stream",
          "name": "stdout",
          "text": [
            "3669/3669 - 145s - 40ms/step - auc: 1.0000 - loss: 0.0010 - val_auc: 1.0000 - val_loss: 0.0011 - learning_rate: 1.0000e-09\n",
            "Epoch 23/50\n",
            "\n",
            "Epoch 23: loss did not improve from 0.00105\n",
            "3669/3669 - 145s - 40ms/step - auc: 1.0000 - loss: 0.0011 - val_auc: 1.0000 - val_loss: 0.0011 - learning_rate: 1.0000e-09\n",
            "Epoch 24/50\n",
            "\n",
            "Epoch 24: ReduceLROnPlateau reducing learning rate to 9.999999717180686e-13.\n",
            "\n",
            "Epoch 24: loss improved from 0.00105 to 0.00104, saving model to best_model.h5\n"
          ]
        },
        {
          "output_type": "stream",
          "name": "stderr",
          "text": [
            "WARNING:absl:You are saving your model as an HDF5 file via `model.save()` or `keras.saving.save_model(model)`. This file format is considered legacy. We recommend using instead the native Keras format, e.g. `model.save('my_model.keras')` or `keras.saving.save_model(model, 'my_model.keras')`. \n"
          ]
        },
        {
          "output_type": "stream",
          "name": "stdout",
          "text": [
            "3669/3669 - 143s - 39ms/step - auc: 1.0000 - loss: 0.0010 - val_auc: 1.0000 - val_loss: 0.0011 - learning_rate: 1.0000e-09\n",
            "Epoch 25/50\n",
            "\n",
            "Epoch 25: loss did not improve from 0.00104\n",
            "3669/3669 - 145s - 39ms/step - auc: 1.0000 - loss: 0.0011 - val_auc: 1.0000 - val_loss: 0.0011 - learning_rate: 1.0000e-12\n",
            "Epoch 26/50\n",
            "\n",
            "Epoch 26: loss did not improve from 0.00104\n",
            "3669/3669 - 143s - 39ms/step - auc: 1.0000 - loss: 0.0011 - val_auc: 1.0000 - val_loss: 0.0011 - learning_rate: 1.0000e-12\n",
            "Epoch 27/50\n",
            "\n",
            "Epoch 27: ReduceLROnPlateau reducing learning rate to 9.999999960041971e-16.\n",
            "\n",
            "Epoch 27: loss did not improve from 0.00104\n",
            "3669/3669 - 143s - 39ms/step - auc: 1.0000 - loss: 0.0011 - val_auc: 1.0000 - val_loss: 0.0011 - learning_rate: 1.0000e-12\n",
            "Epoch 28/50\n",
            "\n",
            "Epoch 28: loss improved from 0.00104 to 0.00104, saving model to best_model.h5\n"
          ]
        },
        {
          "output_type": "stream",
          "name": "stderr",
          "text": [
            "WARNING:absl:You are saving your model as an HDF5 file via `model.save()` or `keras.saving.save_model(model)`. This file format is considered legacy. We recommend using instead the native Keras format, e.g. `model.save('my_model.keras')` or `keras.saving.save_model(model, 'my_model.keras')`. \n"
          ]
        },
        {
          "output_type": "stream",
          "name": "stdout",
          "text": [
            "3669/3669 - 143s - 39ms/step - auc: 1.0000 - loss: 0.0010 - val_auc: 1.0000 - val_loss: 0.0011 - learning_rate: 1.0000e-15\n",
            "Epoch 29/50\n",
            "\n",
            "Epoch 29: loss did not improve from 0.00104\n",
            "3669/3669 - 144s - 39ms/step - auc: 1.0000 - loss: 0.0011 - val_auc: 1.0000 - val_loss: 0.0011 - learning_rate: 1.0000e-15\n",
            "Epoch 30/50\n",
            "\n",
            "Epoch 30: ReduceLROnPlateau reducing learning rate to 1.0000000036274937e-18.\n",
            "\n",
            "Epoch 30: loss did not improve from 0.00104\n",
            "3669/3669 - 143s - 39ms/step - auc: 1.0000 - loss: 0.0011 - val_auc: 1.0000 - val_loss: 0.0011 - learning_rate: 1.0000e-15\n",
            "Epoch 31/50\n",
            "\n",
            "Epoch 31: loss did not improve from 0.00104\n",
            "3669/3669 - 143s - 39ms/step - auc: 1.0000 - loss: 0.0011 - val_auc: 1.0000 - val_loss: 0.0011 - learning_rate: 1.0000e-18\n",
            "Epoch 32/50\n",
            "\n",
            "Epoch 32: loss did not improve from 0.00104\n",
            "3669/3669 - 142s - 39ms/step - auc: 1.0000 - loss: 0.0010 - val_auc: 1.0000 - val_loss: 0.0011 - learning_rate: 1.0000e-18\n",
            "Epoch 33/50\n",
            "\n",
            "Epoch 33: ReduceLROnPlateau reducing learning rate to 1.000000045813705e-21.\n",
            "\n",
            "Epoch 33: loss did not improve from 0.00104\n",
            "3669/3669 - 145s - 40ms/step - auc: 1.0000 - loss: 0.0011 - val_auc: 1.0000 - val_loss: 0.0011 - learning_rate: 1.0000e-18\n",
            "Epoch 34/50\n",
            "\n",
            "Epoch 34: loss did not improve from 0.00104\n",
            "3669/3669 - 143s - 39ms/step - auc: 1.0000 - loss: 0.0011 - val_auc: 1.0000 - val_loss: 0.0011 - learning_rate: 1.0000e-21\n",
            "Epoch 35/50\n",
            "\n",
            "Epoch 35: loss did not improve from 0.00104\n",
            "3669/3669 - 142s - 39ms/step - auc: 1.0000 - loss: 0.0010 - val_auc: 1.0000 - val_loss: 0.0011 - learning_rate: 1.0000e-21\n"
          ]
        },
        {
          "output_type": "display_data",
          "data": {
            "text/plain": [
              "<Figure size 1400x500 with 2 Axes>"
            ],
            "image/png": "[encoded data removed]"
          },
          "metadata": {}
        },
        {
          "output_type": "stream",
          "name": "stdout",
          "text": [
            "\u001b[1m18342/18342\u001b[0m \u001b[32m━━━━━━━━━━━━━━━━━━━━\u001b[0m\u001b[37m\u001b[0m \u001b[1m95s\u001b[0m 5ms/step - auc: 0.9999 - loss: 0.0012\n",
            "Test Loss: 0.0011\n",
            "Test Accuracy: 1.0000\n",
            "\u001b[1m18342/18342\u001b[0m \u001b[32m━━━━━━━━━━━━━━━━━━━━\u001b[0m\u001b[37m\u001b[0m \u001b[1m79s\u001b[0m 4ms/step\n",
            "              precision    recall  f1-score   support\n",
            "\n",
            "           0       1.00      1.00      1.00    475537\n",
            "           1       1.00      1.00      1.00    111390\n",
            "\n",
            "    accuracy                           1.00    586927\n",
            "   macro avg       1.00      1.00      1.00    586927\n",
            "weighted avg       1.00      1.00      1.00    586927\n",
            "\n"
          ]
        },
        {
          "output_type": "display_data",
          "data": {
            "text/plain": [
              "<Figure size 600x500 with 2 Axes>"
            ],
            "image/png": "[encoded data removed]"
          },
          "metadata": {}
        },
        {
          "output_type": "stream",
          "name": "stderr",
          "text": [
            "WARNING:absl:You are saving your model as an HDF5 file via `model.save()` or `keras.saving.save_model(model)`. This file format is considered legacy. We recommend using instead the native Keras format, e.g. `model.save('my_model.keras')` or `keras.saving.save_model(model, 'my_model.keras')`. \n"
          ]
        }
      ],
      "source": [
        "from google.colab import files\n",
        "!pip install gdown\n",
        "\n",
        "from google.colab import files\n",
        "!pip install -U --no-cache-dir gdown --pre\n",
        "from google.colab import drive\n",
        "drive.mount('/content/drive')\n",
        "#!ls /content/drive/MyDrive\n",
        "!cp \"/content/drive/MyDrive/data_set_normalize_c.csv\" .\n",
        "\n",
        "# -- Imports\n",
        "import numpy as np\n",
        "import pandas as pd\n",
        "import gdown\n",
        "import seaborn as sns\n",
        "import matplotlib.pyplot as plt\n",
        "from keras import Sequential\n",
        "from keras.src.layers import LSTM, Dropout, Dense\n",
        "from keras.src.utils import to_categorical\n",
        "from keras.src.optimizers import Adam, RMSprop, Nadam\n",
        "from keras.src.metrics import AUC\n",
        "from keras.src.regularizers import L2\n",
        "from sklearn.metrics import classification_report, confusion_matrix\n",
        "from sklearn.model_selection import train_test_split\n",
        "from tensorflow.python.keras.losses import BinaryCrossentropy\n",
        "from tensorflow.keras.optimizers import Nadam\n",
        "from tensorflow.keras.metrics import AUC\n",
        "from tensorflow.keras.regularizers import l2\n",
        "from tensorflow.keras.callbacks import EarlyStopping, ReduceLROnPlateau, ModelCheckpoint\n",
        "\n",
        "# -- Load and prepare dataset\n",
        "data_set = pd.read_csv('data_set_normalize_c.csv')\n",
        "data_set.replace([np.inf, -np.inf], np.nan, inplace=True)\n",
        "data_set.fillna(data_set.median(), inplace=True)\n",
        "\n",
        "X = data_set.drop(columns=['Label'])\n",
        "y = data_set['Label']\n",
        "\n",
        "timesteps = 5\n",
        "\n",
        "def create_sequences(data, labels, timesteps=5):\n",
        "    X, y = [], []\n",
        "    for i in range(len(data) - timesteps):\n",
        "        X.append(data[i:i + timesteps])\n",
        "        y.append(labels[i + timesteps - 1])\n",
        "    return np.array(X), np.array(y)\n",
        "\n",
        "X_seq, y_seq = create_sequences(X, y, timesteps)\n",
        "\n",
        "X_train, X_test, y_train, y_test = train_test_split(\n",
        "    X_seq, y_seq, test_size=0.2, random_state=42, shuffle=True\n",
        ")\n",
        "\n",
        "# -- Build the model\n",
        "def create_keras_model_v4():\n",
        "    model = Sequential([\n",
        "        LSTM(128, return_sequences=True, input_shape=(timesteps, X_train.shape[2]) ),\n",
        "        Dropout(0.3),\n",
        "        LSTM(64, return_sequences=False),\n",
        "        Dropout(0.3),\n",
        "        Dense(100, activation='relu'),\n",
        "        Dense(1, activation='sigmoid')\n",
        "    ])\n",
        "    model.compile(loss=BinaryCrossentropy(), optimizer=Nadam(), metrics=[AUC(name='auc')])\n",
        "    return model\n",
        "\n",
        "model = create_keras_model_v4()\n",
        "\n",
        "early_stopping = EarlyStopping(monitor='loss', patience=7, restore_best_weights=True)\n",
        "reduce_lr = ReduceLROnPlateau(monitor='loss', factor=0.001, patience=3, verbose=1)\n",
        "checkpoint = ModelCheckpoint('best_model.h5', monitor='loss', save_best_only=True, verbose=1)\n",
        "\n",
        "# -- Train the model\n",
        "history = model.fit(\n",
        "    X_train, y_train,\n",
        "    epochs=50,\n",
        "    batch_size=512,\n",
        "    callbacks=[early_stopping, reduce_lr, checkpoint],\n",
        "    validation_split=0.2,\n",
        "    verbose=2\n",
        ")\n",
        "\n",
        "# -- Save training history\n",
        "history_df = pd.DataFrame(history.history)\n",
        "history_df.to_csv('training_history_10.csv', index=False)\n",
        "\n",
        "# -- Plot training history\n",
        "plt.figure(figsize=(14, 5))\n",
        "\n",
        "plt.subplot(1, 2, 1)\n",
        "plt.plot(history.history['loss'], label='Training Loss', color='blue')\n",
        "plt.plot(history.history['val_loss'], label='Validation Loss', color='orange')\n",
        "plt.title('Loss over Epochs')\n",
        "plt.xlabel('Epochs')\n",
        "plt.ylabel('Loss')\n",
        "plt.legend()\n",
        "\n",
        "plt.subplot(1, 2, 2)\n",
        "plt.plot(history.history['auc'], label='Training Accuracy', color='green')\n",
        "plt.plot(history.history['val_auc'], label='Validation Accuracy', color='red')\n",
        "plt.title('Accuracy over Epochs')\n",
        "plt.xlabel('Epochs')\n",
        "plt.ylabel('Accuracy')\n",
        "plt.legend()\n",
        "\n",
        "plt.tight_layout()\n",
        "plt.show()\n",
        "\n",
        "# -- Evaluate the model\n",
        "loss, accuracy = model.evaluate(X_test, y_test, verbose=1)\n",
        "print(f\"Test Loss: {loss:.4f}\")\n",
        "print(f\"Test Accuracy: {accuracy:.4f}\")\n",
        "\n",
        "# -- Predict and analyze results\n",
        "y_pred_probs = model.predict(X_test)\n",
        "y_pred_classes = (y_pred_probs > 0.5).astype(int).reshape(-1)\n",
        "\n",
        "print(classification_report(y_test, y_pred_classes))\n",
        "\n",
        "# -- Confusion Matrix\n",
        "cm = confusion_matrix(y_test, y_pred_classes)\n",
        "plt.figure(figsize=(6, 5))\n",
        "sns.heatmap(cm, annot=True, fmt='d', cmap='Blues', xticklabels=['Normal', 'Anomaly'], yticklabels=['Normal', 'Anomaly'])\n",
        "plt.title('Confusion Matrix')\n",
        "plt.xlabel('Predicted Label')\n",
        "plt.ylabel('True Label')\n",
        "plt.show()\n",
        "\n",
        "# -- Optional: Save model\n",
        "model.save('anomaly_detection_10_rmsp.h5')"
      ]
    }
  ]
}