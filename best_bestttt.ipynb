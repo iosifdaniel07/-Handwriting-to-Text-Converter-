{
  "nbformat": 4,
  "nbformat_minor": 0,
  "metadata": {
    "colab": {
      "provenance": [],
      "machine_shape": "hm",
      "authorship_tag": "ABX9TyPS7h5kYq/rytb1EfGOjWmE",
      "include_colab_link": true
    },
    "kernelspec": {
      "name": "python3",
      "display_name": "Python 3"
    },
    "language_info": {
      "name": "python"
    }
  },
  "cells": [
    {
      "cell_type": "markdown",
      "metadata": {
        "id": "view-in-github",
        "colab_type": "text"
      },
      "source": [
        "<a href=\"https://colab.research.google.com/github/iosifdaniel07/-Handwriting-to-Text-Converter-/blob/main/best_bestttt.ipynb\" target=\"_parent\"><img src=\"https://colab.research.google.com/assets/colab-badge.svg\" alt=\"Open In Colab\"/></a>"
      ]
    },
    {
      "cell_type": "code",
      "execution_count": 1,
      "metadata": {
        "colab": {
          "base_uri": "https://localhost:8080/",
          "height": 1000
        },
        "id": "h1Me1A8ReyY7",
        "outputId": "74b9531b-5447-46a3-be8f-32b0452116e6"
      },
      "outputs": [
        {
          "output_type": "stream",
          "name": "stdout",
          "text": [
            "Requirement already satisfied: gdown in /usr/local/lib/python3.11/dist-packages (5.2.0)\n",
            "Requirement already satisfied: beautifulsoup4 in /usr/local/lib/python3.11/dist-packages (from gdown) (4.13.4)\n",
            "Requirement already satisfied: filelock in /usr/local/lib/python3.11/dist-packages (from gdown) (3.18.0)\n",
            "Requirement already satisfied: requests[socks] in /usr/local/lib/python3.11/dist-packages (from gdown) (2.32.3)\n",
            "Requirement already satisfied: tqdm in /usr/local/lib/python3.11/dist-packages (from gdown) (4.67.1)\n",
            "Requirement already satisfied: soupsieve>1.2 in /usr/local/lib/python3.11/dist-packages (from beautifulsoup4->gdown) (2.7)\n",
            "Requirement already satisfied: typing-extensions>=4.0.0 in /usr/local/lib/python3.11/dist-packages (from beautifulsoup4->gdown) (4.13.2)\n",
            "Requirement already satisfied: charset-normalizer<4,>=2 in /usr/local/lib/python3.11/dist-packages (from requests[socks]->gdown) (3.4.1)\n",
            "Requirement already satisfied: idna<4,>=2.5 in /usr/local/lib/python3.11/dist-packages (from requests[socks]->gdown) (3.10)\n",
            "Requirement already satisfied: urllib3<3,>=1.21.1 in /usr/local/lib/python3.11/dist-packages (from requests[socks]->gdown) (2.4.0)\n",
            "Requirement already satisfied: certifi>=2017.4.17 in /usr/local/lib/python3.11/dist-packages (from requests[socks]->gdown) (2025.4.26)\n",
            "Requirement already satisfied: PySocks!=1.5.7,>=1.5.6 in /usr/local/lib/python3.11/dist-packages (from requests[socks]->gdown) (1.7.1)\n",
            "Requirement already satisfied: gdown in /usr/local/lib/python3.11/dist-packages (5.2.0)\n",
            "Requirement already satisfied: beautifulsoup4 in /usr/local/lib/python3.11/dist-packages (from gdown) (4.13.4)\n",
            "Requirement already satisfied: filelock in /usr/local/lib/python3.11/dist-packages (from gdown) (3.18.0)\n",
            "Requirement already satisfied: requests[socks] in /usr/local/lib/python3.11/dist-packages (from gdown) (2.32.3)\n",
            "Requirement already satisfied: tqdm in /usr/local/lib/python3.11/dist-packages (from gdown) (4.67.1)\n",
            "Requirement already satisfied: soupsieve>1.2 in /usr/local/lib/python3.11/dist-packages (from beautifulsoup4->gdown) (2.7)\n",
            "Requirement already satisfied: typing-extensions>=4.0.0 in /usr/local/lib/python3.11/dist-packages (from beautifulsoup4->gdown) (4.13.2)\n",
            "Requirement already satisfied: charset-normalizer<4,>=2 in /usr/local/lib/python3.11/dist-packages (from requests[socks]->gdown) (3.4.1)\n",
            "Requirement already satisfied: idna<4,>=2.5 in /usr/local/lib/python3.11/dist-packages (from requests[socks]->gdown) (3.10)\n",
            "Requirement already satisfied: urllib3<3,>=1.21.1 in /usr/local/lib/python3.11/dist-packages (from requests[socks]->gdown) (2.4.0)\n",
            "Requirement already satisfied: certifi>=2017.4.17 in /usr/local/lib/python3.11/dist-packages (from requests[socks]->gdown) (2025.4.26)\n",
            "Requirement already satisfied: PySocks!=1.5.7,>=1.5.6 in /usr/local/lib/python3.11/dist-packages (from requests[socks]->gdown) (1.7.1)\n",
            "Mounted at /content/drive\n"
          ]
        },
        {
          "output_type": "stream",
          "name": "stderr",
          "text": [
            "/usr/local/lib/python3.11/dist-packages/keras/src/layers/rnn/rnn.py:200: UserWarning: Do not pass an `input_shape`/`input_dim` argument to a layer. When using Sequential models, prefer using an `Input(shape)` object as the first layer in the model instead.\n",
            "  super().__init__(**kwargs)\n"
          ]
        },
        {
          "output_type": "stream",
          "name": "stdout",
          "text": [
            "Epoch 1/50\n",
            "\n",
            "Epoch 1: loss improved from inf to 0.01398, saving model to best_model.h5\n"
          ]
        },
        {
          "output_type": "stream",
          "name": "stderr",
          "text": [
            "WARNING:absl:You are saving your model as an HDF5 file via `model.save()` or `keras.saving.save_model(model)`. This file format is considered legacy. We recommend using instead the native Keras format, e.g. `model.save('my_model.keras')` or `keras.saving.save_model(model, 'my_model.keras')`. \n"
          ]
        },
        {
          "output_type": "stream",
          "name": "stdout",
          "text": [
            "9171/9171 - 213s - 23ms/step - auc: 0.9987 - loss: 0.0140 - learning_rate: 1.0000e-03\n",
            "Epoch 2/50\n",
            "\n",
            "Epoch 2: loss improved from 0.01398 to 0.00429, saving model to best_model.h5\n"
          ]
        },
        {
          "output_type": "stream",
          "name": "stderr",
          "text": [
            "WARNING:absl:You are saving your model as an HDF5 file via `model.save()` or `keras.saving.save_model(model)`. This file format is considered legacy. We recommend using instead the native Keras format, e.g. `model.save('my_model.keras')` or `keras.saving.save_model(model, 'my_model.keras')`. \n"
          ]
        },
        {
          "output_type": "stream",
          "name": "stdout",
          "text": [
            "9171/9171 - 206s - 22ms/step - auc: 0.9998 - loss: 0.0043 - learning_rate: 1.0000e-03\n",
            "Epoch 3/50\n",
            "\n",
            "Epoch 3: loss improved from 0.00429 to 0.00335, saving model to best_model.h5\n"
          ]
        },
        {
          "output_type": "stream",
          "name": "stderr",
          "text": [
            "WARNING:absl:You are saving your model as an HDF5 file via `model.save()` or `keras.saving.save_model(model)`. This file format is considered legacy. We recommend using instead the native Keras format, e.g. `model.save('my_model.keras')` or `keras.saving.save_model(model, 'my_model.keras')`. \n"
          ]
        },
        {
          "output_type": "stream",
          "name": "stdout",
          "text": [
            "9171/9171 - 230s - 25ms/step - auc: 0.9998 - loss: 0.0033 - learning_rate: 1.0000e-03\n",
            "Epoch 4/50\n",
            "\n",
            "Epoch 4: loss improved from 0.00335 to 0.00295, saving model to best_model.h5\n"
          ]
        },
        {
          "output_type": "stream",
          "name": "stderr",
          "text": [
            "WARNING:absl:You are saving your model as an HDF5 file via `model.save()` or `keras.saving.save_model(model)`. This file format is considered legacy. We recommend using instead the native Keras format, e.g. `model.save('my_model.keras')` or `keras.saving.save_model(model, 'my_model.keras')`. \n"
          ]
        },
        {
          "output_type": "stream",
          "name": "stdout",
          "text": [
            "9171/9171 - 202s - 22ms/step - auc: 0.9999 - loss: 0.0029 - learning_rate: 1.0000e-03\n",
            "Epoch 5/50\n",
            "\n",
            "Epoch 5: loss improved from 0.00295 to 0.00269, saving model to best_model.h5\n"
          ]
        },
        {
          "output_type": "stream",
          "name": "stderr",
          "text": [
            "WARNING:absl:You are saving your model as an HDF5 file via `model.save()` or `keras.saving.save_model(model)`. This file format is considered legacy. We recommend using instead the native Keras format, e.g. `model.save('my_model.keras')` or `keras.saving.save_model(model, 'my_model.keras')`. \n"
          ]
        },
        {
          "output_type": "stream",
          "name": "stdout",
          "text": [
            "9171/9171 - 204s - 22ms/step - auc: 0.9999 - loss: 0.0027 - learning_rate: 1.0000e-03\n",
            "Epoch 6/50\n",
            "\n",
            "Epoch 6: loss improved from 0.00269 to 0.00239, saving model to best_model.h5\n"
          ]
        },
        {
          "output_type": "stream",
          "name": "stderr",
          "text": [
            "WARNING:absl:You are saving your model as an HDF5 file via `model.save()` or `keras.saving.save_model(model)`. This file format is considered legacy. We recommend using instead the native Keras format, e.g. `model.save('my_model.keras')` or `keras.saving.save_model(model, 'my_model.keras')`. \n"
          ]
        },
        {
          "output_type": "stream",
          "name": "stdout",
          "text": [
            "9171/9171 - 208s - 23ms/step - auc: 0.9999 - loss: 0.0024 - learning_rate: 1.0000e-03\n",
            "Epoch 7/50\n",
            "\n",
            "Epoch 7: loss improved from 0.00239 to 0.00207, saving model to best_model.h5\n"
          ]
        },
        {
          "output_type": "stream",
          "name": "stderr",
          "text": [
            "WARNING:absl:You are saving your model as an HDF5 file via `model.save()` or `keras.saving.save_model(model)`. This file format is considered legacy. We recommend using instead the native Keras format, e.g. `model.save('my_model.keras')` or `keras.saving.save_model(model, 'my_model.keras')`. \n"
          ]
        },
        {
          "output_type": "stream",
          "name": "stdout",
          "text": [
            "9171/9171 - 204s - 22ms/step - auc: 0.9999 - loss: 0.0021 - learning_rate: 1.0000e-03\n",
            "Epoch 8/50\n",
            "\n",
            "Epoch 8: loss did not improve from 0.00207\n",
            "9171/9171 - 204s - 22ms/step - auc: 0.9999 - loss: 0.0022 - learning_rate: 1.0000e-03\n",
            "Epoch 9/50\n",
            "\n",
            "Epoch 9: loss improved from 0.00207 to 0.00191, saving model to best_model.h5\n"
          ]
        },
        {
          "output_type": "stream",
          "name": "stderr",
          "text": [
            "WARNING:absl:You are saving your model as an HDF5 file via `model.save()` or `keras.saving.save_model(model)`. This file format is considered legacy. We recommend using instead the native Keras format, e.g. `model.save('my_model.keras')` or `keras.saving.save_model(model, 'my_model.keras')`. \n"
          ]
        },
        {
          "output_type": "stream",
          "name": "stdout",
          "text": [
            "9171/9171 - 206s - 22ms/step - auc: 0.9999 - loss: 0.0019 - learning_rate: 1.0000e-03\n",
            "Epoch 10/50\n",
            "\n",
            "Epoch 10: loss improved from 0.00191 to 0.00172, saving model to best_model.h5\n"
          ]
        },
        {
          "output_type": "stream",
          "name": "stderr",
          "text": [
            "WARNING:absl:You are saving your model as an HDF5 file via `model.save()` or `keras.saving.save_model(model)`. This file format is considered legacy. We recommend using instead the native Keras format, e.g. `model.save('my_model.keras')` or `keras.saving.save_model(model, 'my_model.keras')`. \n"
          ]
        },
        {
          "output_type": "stream",
          "name": "stdout",
          "text": [
            "9171/9171 - 206s - 22ms/step - auc: 0.9999 - loss: 0.0017 - learning_rate: 1.0000e-03\n",
            "Epoch 11/50\n",
            "\n",
            "Epoch 11: loss did not improve from 0.00172\n",
            "9171/9171 - 206s - 22ms/step - auc: 0.9999 - loss: 0.0018 - learning_rate: 1.0000e-03\n",
            "Epoch 12/50\n",
            "\n",
            "Epoch 12: loss did not improve from 0.00172\n",
            "9171/9171 - 205s - 22ms/step - auc: 0.9999 - loss: 0.0018 - learning_rate: 1.0000e-03\n",
            "Epoch 13/50\n",
            "\n",
            "Epoch 13: ReduceLROnPlateau reducing learning rate to 1.0000000474974512e-06.\n",
            "\n",
            "Epoch 13: loss did not improve from 0.00172\n",
            "9171/9171 - 210s - 23ms/step - auc: 0.9999 - loss: 0.0017 - learning_rate: 1.0000e-03\n",
            "Epoch 14/50\n",
            "\n",
            "Epoch 14: loss improved from 0.00172 to 0.00131, saving model to best_model.h5\n"
          ]
        },
        {
          "output_type": "stream",
          "name": "stderr",
          "text": [
            "WARNING:absl:You are saving your model as an HDF5 file via `model.save()` or `keras.saving.save_model(model)`. This file format is considered legacy. We recommend using instead the native Keras format, e.g. `model.save('my_model.keras')` or `keras.saving.save_model(model, 'my_model.keras')`. \n"
          ]
        },
        {
          "output_type": "stream",
          "name": "stdout",
          "text": [
            "9171/9171 - 204s - 22ms/step - auc: 1.0000 - loss: 0.0013 - learning_rate: 1.0000e-06\n",
            "Epoch 15/50\n",
            "\n",
            "Epoch 15: loss improved from 0.00131 to 0.00121, saving model to best_model.h5\n"
          ]
        },
        {
          "output_type": "stream",
          "name": "stderr",
          "text": [
            "WARNING:absl:You are saving your model as an HDF5 file via `model.save()` or `keras.saving.save_model(model)`. This file format is considered legacy. We recommend using instead the native Keras format, e.g. `model.save('my_model.keras')` or `keras.saving.save_model(model, 'my_model.keras')`. \n"
          ]
        },
        {
          "output_type": "stream",
          "name": "stdout",
          "text": [
            "9171/9171 - 204s - 22ms/step - auc: 1.0000 - loss: 0.0012 - learning_rate: 1.0000e-06\n",
            "Epoch 16/50\n",
            "\n",
            "Epoch 16: loss improved from 0.00121 to 0.00116, saving model to best_model.h5\n"
          ]
        },
        {
          "output_type": "stream",
          "name": "stderr",
          "text": [
            "WARNING:absl:You are saving your model as an HDF5 file via `model.save()` or `keras.saving.save_model(model)`. This file format is considered legacy. We recommend using instead the native Keras format, e.g. `model.save('my_model.keras')` or `keras.saving.save_model(model, 'my_model.keras')`. \n"
          ]
        },
        {
          "output_type": "stream",
          "name": "stdout",
          "text": [
            "9171/9171 - 204s - 22ms/step - auc: 1.0000 - loss: 0.0012 - learning_rate: 1.0000e-06\n",
            "Epoch 17/50\n",
            "\n",
            "Epoch 17: loss improved from 0.00116 to 0.00109, saving model to best_model.h5\n"
          ]
        },
        {
          "output_type": "stream",
          "name": "stderr",
          "text": [
            "WARNING:absl:You are saving your model as an HDF5 file via `model.save()` or `keras.saving.save_model(model)`. This file format is considered legacy. We recommend using instead the native Keras format, e.g. `model.save('my_model.keras')` or `keras.saving.save_model(model, 'my_model.keras')`. \n"
          ]
        },
        {
          "output_type": "stream",
          "name": "stdout",
          "text": [
            "9171/9171 - 206s - 22ms/step - auc: 1.0000 - loss: 0.0011 - learning_rate: 1.0000e-06\n",
            "Epoch 18/50\n",
            "\n",
            "Epoch 18: loss improved from 0.00109 to 0.00108, saving model to best_model.h5\n"
          ]
        },
        {
          "output_type": "stream",
          "name": "stderr",
          "text": [
            "WARNING:absl:You are saving your model as an HDF5 file via `model.save()` or `keras.saving.save_model(model)`. This file format is considered legacy. We recommend using instead the native Keras format, e.g. `model.save('my_model.keras')` or `keras.saving.save_model(model, 'my_model.keras')`. \n"
          ]
        },
        {
          "output_type": "stream",
          "name": "stdout",
          "text": [
            "9171/9171 - 206s - 22ms/step - auc: 1.0000 - loss: 0.0011 - learning_rate: 1.0000e-06\n",
            "Epoch 19/50\n",
            "\n",
            "Epoch 19: loss improved from 0.00108 to 0.00105, saving model to best_model.h5\n"
          ]
        },
        {
          "output_type": "stream",
          "name": "stderr",
          "text": [
            "WARNING:absl:You are saving your model as an HDF5 file via `model.save()` or `keras.saving.save_model(model)`. This file format is considered legacy. We recommend using instead the native Keras format, e.g. `model.save('my_model.keras')` or `keras.saving.save_model(model, 'my_model.keras')`. \n"
          ]
        },
        {
          "output_type": "stream",
          "name": "stdout",
          "text": [
            "9171/9171 - 203s - 22ms/step - auc: 1.0000 - loss: 0.0011 - learning_rate: 1.0000e-06\n",
            "Epoch 20/50\n",
            "\n",
            "Epoch 20: loss improved from 0.00105 to 0.00104, saving model to best_model.h5\n"
          ]
        },
        {
          "output_type": "stream",
          "name": "stderr",
          "text": [
            "WARNING:absl:You are saving your model as an HDF5 file via `model.save()` or `keras.saving.save_model(model)`. This file format is considered legacy. We recommend using instead the native Keras format, e.g. `model.save('my_model.keras')` or `keras.saving.save_model(model, 'my_model.keras')`. \n"
          ]
        },
        {
          "output_type": "stream",
          "name": "stdout",
          "text": [
            "9171/9171 - 202s - 22ms/step - auc: 1.0000 - loss: 0.0010 - learning_rate: 1.0000e-06\n",
            "Epoch 21/50\n",
            "\n",
            "Epoch 21: loss improved from 0.00104 to 0.00101, saving model to best_model.h5\n"
          ]
        },
        {
          "output_type": "stream",
          "name": "stderr",
          "text": [
            "WARNING:absl:You are saving your model as an HDF5 file via `model.save()` or `keras.saving.save_model(model)`. This file format is considered legacy. We recommend using instead the native Keras format, e.g. `model.save('my_model.keras')` or `keras.saving.save_model(model, 'my_model.keras')`. \n"
          ]
        },
        {
          "output_type": "stream",
          "name": "stdout",
          "text": [
            "9171/9171 - 203s - 22ms/step - auc: 1.0000 - loss: 0.0010 - learning_rate: 1.0000e-06\n",
            "Epoch 22/50\n",
            "\n",
            "Epoch 22: ReduceLROnPlateau reducing learning rate to 9.999999974752428e-10.\n",
            "\n",
            "Epoch 22: loss did not improve from 0.00101\n",
            "9171/9171 - 201s - 22ms/step - auc: 1.0000 - loss: 0.0010 - learning_rate: 1.0000e-06\n",
            "Epoch 23/50\n",
            "\n",
            "Epoch 23: loss did not improve from 0.00101\n",
            "9171/9171 - 202s - 22ms/step - auc: 1.0000 - loss: 0.0010 - learning_rate: 1.0000e-09\n",
            "Epoch 24/50\n",
            "\n",
            "Epoch 24: loss did not improve from 0.00101\n",
            "9171/9171 - 201s - 22ms/step - auc: 1.0000 - loss: 0.0010 - learning_rate: 1.0000e-09\n",
            "Epoch 25/50\n",
            "\n",
            "Epoch 25: ReduceLROnPlateau reducing learning rate to 9.999999717180686e-13.\n",
            "\n",
            "Epoch 25: loss improved from 0.00101 to 0.00099, saving model to best_model.h5\n"
          ]
        },
        {
          "output_type": "stream",
          "name": "stderr",
          "text": [
            "WARNING:absl:You are saving your model as an HDF5 file via `model.save()` or `keras.saving.save_model(model)`. This file format is considered legacy. We recommend using instead the native Keras format, e.g. `model.save('my_model.keras')` or `keras.saving.save_model(model, 'my_model.keras')`. \n"
          ]
        },
        {
          "output_type": "stream",
          "name": "stdout",
          "text": [
            "9171/9171 - 202s - 22ms/step - auc: 1.0000 - loss: 9.8635e-04 - learning_rate: 1.0000e-09\n",
            "Epoch 26/50\n",
            "\n",
            "Epoch 26: loss did not improve from 0.00099\n",
            "9171/9171 - 202s - 22ms/step - auc: 1.0000 - loss: 0.0010 - learning_rate: 1.0000e-12\n",
            "Epoch 27/50\n",
            "\n",
            "Epoch 27: loss did not improve from 0.00099\n",
            "9171/9171 - 204s - 22ms/step - auc: 1.0000 - loss: 9.9480e-04 - learning_rate: 1.0000e-12\n",
            "Epoch 28/50\n",
            "\n",
            "Epoch 28: ReduceLROnPlateau reducing learning rate to 9.999999960041971e-16.\n",
            "\n",
            "Epoch 28: loss did not improve from 0.00099\n",
            "9171/9171 - 201s - 22ms/step - auc: 1.0000 - loss: 0.0010 - learning_rate: 1.0000e-12\n",
            "Epoch 29/50\n",
            "\n",
            "Epoch 29: loss did not improve from 0.00099\n",
            "9171/9171 - 202s - 22ms/step - auc: 1.0000 - loss: 0.0010 - learning_rate: 1.0000e-15\n",
            "Epoch 30/50\n",
            "\n",
            "Epoch 30: loss did not improve from 0.00099\n",
            "9171/9171 - 203s - 22ms/step - auc: 1.0000 - loss: 0.0010 - learning_rate: 1.0000e-15\n",
            "Epoch 31/50\n",
            "\n",
            "Epoch 31: ReduceLROnPlateau reducing learning rate to 1.0000000036274937e-18.\n",
            "\n",
            "Epoch 31: loss improved from 0.00099 to 0.00099, saving model to best_model.h5\n"
          ]
        },
        {
          "output_type": "stream",
          "name": "stderr",
          "text": [
            "WARNING:absl:You are saving your model as an HDF5 file via `model.save()` or `keras.saving.save_model(model)`. This file format is considered legacy. We recommend using instead the native Keras format, e.g. `model.save('my_model.keras')` or `keras.saving.save_model(model, 'my_model.keras')`. \n"
          ]
        },
        {
          "output_type": "stream",
          "name": "stdout",
          "text": [
            "9171/9171 - 204s - 22ms/step - auc: 1.0000 - loss: 9.8547e-04 - learning_rate: 1.0000e-15\n",
            "Epoch 32/50\n",
            "\n",
            "Epoch 32: loss did not improve from 0.00099\n",
            "9171/9171 - 202s - 22ms/step - auc: 1.0000 - loss: 9.9883e-04 - learning_rate: 1.0000e-18\n",
            "Epoch 33/50\n",
            "\n",
            "Epoch 33: loss did not improve from 0.00099\n",
            "9171/9171 - 203s - 22ms/step - auc: 1.0000 - loss: 9.9879e-04 - learning_rate: 1.0000e-18\n",
            "Epoch 34/50\n",
            "\n",
            "Epoch 34: ReduceLROnPlateau reducing learning rate to 1.000000045813705e-21.\n",
            "\n",
            "Epoch 34: loss did not improve from 0.00099\n",
            "9171/9171 - 201s - 22ms/step - auc: 1.0000 - loss: 0.0010 - learning_rate: 1.0000e-18\n",
            "Epoch 35/50\n",
            "\n",
            "Epoch 35: loss did not improve from 0.00099\n",
            "9171/9171 - 203s - 22ms/step - auc: 1.0000 - loss: 0.0010 - learning_rate: 1.0000e-21\n",
            "Epoch 36/50\n",
            "\n",
            "Epoch 36: loss did not improve from 0.00099\n",
            "9171/9171 - 202s - 22ms/step - auc: 1.0000 - loss: 9.9504e-04 - learning_rate: 1.0000e-21\n",
            "Epoch 37/50\n",
            "\n",
            "Epoch 37: ReduceLROnPlateau reducing learning rate to 1.0000000692397185e-24.\n",
            "\n",
            "Epoch 37: loss improved from 0.00099 to 0.00098, saving model to best_model.h5\n"
          ]
        },
        {
          "output_type": "stream",
          "name": "stderr",
          "text": [
            "WARNING:absl:You are saving your model as an HDF5 file via `model.save()` or `keras.saving.save_model(model)`. This file format is considered legacy. We recommend using instead the native Keras format, e.g. `model.save('my_model.keras')` or `keras.saving.save_model(model, 'my_model.keras')`. \n"
          ]
        },
        {
          "output_type": "stream",
          "name": "stdout",
          "text": [
            "9171/9171 - 200s - 22ms/step - auc: 1.0000 - loss: 9.8445e-04 - learning_rate: 1.0000e-21\n",
            "Epoch 38/50\n",
            "\n",
            "Epoch 38: loss did not improve from 0.00098\n",
            "9171/9171 - 200s - 22ms/step - auc: 1.0000 - loss: 0.0010 - learning_rate: 1.0000e-24\n",
            "Epoch 39/50\n",
            "\n",
            "Epoch 39: loss did not improve from 0.00098\n",
            "9171/9171 - 200s - 22ms/step - auc: 1.0000 - loss: 0.0010 - learning_rate: 1.0000e-24\n",
            "Epoch 40/50\n",
            "\n",
            "Epoch 40: ReduceLROnPlateau reducing learning rate to 1.0000001181490945e-27.\n",
            "\n",
            "Epoch 40: loss did not improve from 0.00098\n",
            "9171/9171 - 200s - 22ms/step - auc: 1.0000 - loss: 9.8986e-04 - learning_rate: 1.0000e-24\n",
            "Epoch 41/50\n",
            "\n",
            "Epoch 41: loss did not improve from 0.00098\n",
            "9171/9171 - 200s - 22ms/step - auc: 1.0000 - loss: 0.0010 - learning_rate: 1.0000e-27\n",
            "Epoch 42/50\n",
            "\n",
            "Epoch 42: loss did not improve from 0.00098\n",
            "9171/9171 - 201s - 22ms/step - auc: 1.0000 - loss: 0.0010 - learning_rate: 1.0000e-27\n",
            "Epoch 43/50\n",
            "\n",
            "Epoch 43: ReduceLROnPlateau reducing learning rate to 1.0000001235416983e-30.\n",
            "\n",
            "Epoch 43: loss did not improve from 0.00098\n",
            "9171/9171 - 199s - 22ms/step - auc: 1.0000 - loss: 0.0010 - learning_rate: 1.0000e-27\n",
            "Epoch 44/50\n",
            "\n",
            "Epoch 44: loss did not improve from 0.00098\n",
            "9171/9171 - 202s - 22ms/step - auc: 1.0000 - loss: 0.0010 - learning_rate: 1.0000e-30\n"
          ]
        },
        {
          "output_type": "error",
          "ename": "KeyError",
          "evalue": "'val_loss'",
          "traceback": [
            "\u001b[0;31m---------------------------------------------------------------------------\u001b[0m",
            "\u001b[0;31mKeyError\u001b[0m                                  Traceback (most recent call last)",
            "\u001b[0;32m<ipython-input-1-c00949537462>\u001b[0m in \u001b[0;36m<cell line: 0>\u001b[0;34m()\u001b[0m\n\u001b[1;32m     89\u001b[0m \u001b[0mplt\u001b[0m\u001b[0;34m.\u001b[0m\u001b[0msubplot\u001b[0m\u001b[0;34m(\u001b[0m\u001b[0;36m1\u001b[0m\u001b[0;34m,\u001b[0m \u001b[0;36m2\u001b[0m\u001b[0;34m,\u001b[0m \u001b[0;36m1\u001b[0m\u001b[0;34m)\u001b[0m\u001b[0;34m\u001b[0m\u001b[0;34m\u001b[0m\u001b[0m\n\u001b[1;32m     90\u001b[0m \u001b[0mplt\u001b[0m\u001b[0;34m.\u001b[0m\u001b[0mplot\u001b[0m\u001b[0;34m(\u001b[0m\u001b[0mhistory\u001b[0m\u001b[0;34m.\u001b[0m\u001b[0mhistory\u001b[0m\u001b[0;34m[\u001b[0m\u001b[0;34m'loss'\u001b[0m\u001b[0;34m]\u001b[0m\u001b[0;34m,\u001b[0m \u001b[0mlabel\u001b[0m\u001b[0;34m=\u001b[0m\u001b[0;34m'Training Loss'\u001b[0m\u001b[0;34m,\u001b[0m \u001b[0mcolor\u001b[0m\u001b[0;34m=\u001b[0m\u001b[0;34m'blue'\u001b[0m\u001b[0;34m)\u001b[0m\u001b[0;34m\u001b[0m\u001b[0;34m\u001b[0m\u001b[0m\n\u001b[0;32m---> 91\u001b[0;31m \u001b[0mplt\u001b[0m\u001b[0;34m.\u001b[0m\u001b[0mplot\u001b[0m\u001b[0;34m(\u001b[0m\u001b[0mhistory\u001b[0m\u001b[0;34m.\u001b[0m\u001b[0mhistory\u001b[0m\u001b[0;34m[\u001b[0m\u001b[0;34m'val_loss'\u001b[0m\u001b[0;34m]\u001b[0m\u001b[0;34m,\u001b[0m \u001b[0mlabel\u001b[0m\u001b[0;34m=\u001b[0m\u001b[0;34m'Validation Loss'\u001b[0m\u001b[0;34m,\u001b[0m \u001b[0mcolor\u001b[0m\u001b[0;34m=\u001b[0m\u001b[0;34m'orange'\u001b[0m\u001b[0;34m)\u001b[0m\u001b[0;34m\u001b[0m\u001b[0;34m\u001b[0m\u001b[0m\n\u001b[0m\u001b[1;32m     92\u001b[0m \u001b[0mplt\u001b[0m\u001b[0;34m.\u001b[0m\u001b[0mtitle\u001b[0m\u001b[0;34m(\u001b[0m\u001b[0;34m'Loss over Epochs'\u001b[0m\u001b[0;34m)\u001b[0m\u001b[0;34m\u001b[0m\u001b[0;34m\u001b[0m\u001b[0m\n\u001b[1;32m     93\u001b[0m \u001b[0mplt\u001b[0m\u001b[0;34m.\u001b[0m\u001b[0mxlabel\u001b[0m\u001b[0;34m(\u001b[0m\u001b[0;34m'Epochs'\u001b[0m\u001b[0;34m)\u001b[0m\u001b[0;34m\u001b[0m\u001b[0;34m\u001b[0m\u001b[0m\n",
            "\u001b[0;31mKeyError\u001b[0m: 'val_loss'"
          ]
        },
        {
          "output_type": "display_data",
          "data": {
            "text/plain": [
              "<Figure size 1400x500 with 1 Axes>"
            ],
            "image/png": "[encoded data removed]"
          },
          "metadata": {}
        }
      ],
      "source": [
        "from google.colab import files\n",
        "!pip install gdown\n",
        "\n",
        "from google.colab import files\n",
        "!pip install -U --no-cache-dir gdown --pre\n",
        "from google.colab import drive\n",
        "drive.mount('/content/drive')\n",
        "#!ls /content/drive/MyDrive\n",
        "!cp \"/content/drive/MyDrive/data_set_normalize_c.csv\" .\n",
        "\n",
        "# -- Imports\n",
        "import numpy as np\n",
        "import pandas as pd\n",
        "import gdown\n",
        "import seaborn as sns\n",
        "import matplotlib.pyplot as plt\n",
        "from keras import Sequential\n",
        "from keras.src.layers import LSTM, Dropout, Dense\n",
        "from keras.src.utils import to_categorical\n",
        "from keras.src.optimizers import Adam, RMSprop, Nadam\n",
        "from keras.src.metrics import AUC\n",
        "from keras.src.regularizers import L2\n",
        "from sklearn.metrics import classification_report, confusion_matrix\n",
        "from sklearn.model_selection import train_test_split\n",
        "from tensorflow.python.keras.losses import BinaryCrossentropy\n",
        "from tensorflow.keras.optimizers import Nadam\n",
        "from tensorflow.keras.metrics import AUC\n",
        "from tensorflow.keras.regularizers import l2\n",
        "from tensorflow.keras.callbacks import EarlyStopping, ReduceLROnPlateau, ModelCheckpoint\n",
        "\n",
        "# -- Load and prepare dataset\n",
        "data_set = pd.read_csv('data_set_normalize_c.csv')\n",
        "data_set.replace([np.inf, -np.inf], np.nan, inplace=True)\n",
        "data_set.fillna(data_set.median(), inplace=True)\n",
        "\n",
        "X = data_set.drop(columns=['Label'])\n",
        "y = data_set['Label']\n",
        "\n",
        "timesteps = 5\n",
        "\n",
        "def create_sequences(data, labels, timesteps=5):\n",
        "    X, y = [], []\n",
        "    for i in range(len(data) - timesteps):\n",
        "        X.append(data[i:i + timesteps])\n",
        "        y.append(labels[i + timesteps - 1])\n",
        "    return np.array(X), np.array(y)\n",
        "\n",
        "X_seq, y_seq = create_sequences(X, y, timesteps)\n",
        "\n",
        "X_train, X_test, y_train, y_test = train_test_split(\n",
        "    X_seq, y_seq, test_size=0.2, random_state=42, shuffle=True\n",
        ")\n",
        "\n",
        "# -- Build the model\n",
        "def create_keras_model_v4():\n",
        "    model = Sequential([\n",
        "        LSTM(128, return_sequences=True, input_shape=(timesteps, X_train.shape[2]) ),\n",
        "        Dropout(0.3),\n",
        "        LSTM(64, return_sequences=False),\n",
        "        Dropout(0.3),\n",
        "        Dense(100, activation='relu'),\n",
        "        Dense(1, activation='sigmoid')\n",
        "    ])\n",
        "    model.compile(loss=BinaryCrossentropy(), optimizer=Nadam(), metrics=[AUC()])\n",
        "    return model\n",
        "\n",
        "model = create_keras_model_v4()\n",
        "\n",
        "early_stopping = EarlyStopping(monitor='loss', patience=7, restore_best_weights=True)\n",
        "reduce_lr = ReduceLROnPlateau(monitor='loss', factor=0.001, patience=3, verbose=1)\n",
        "checkpoint = ModelCheckpoint('best_model.h5', monitor='loss', save_best_only=True, verbose=1)\n",
        "\n",
        "# -- Train the model\n",
        "history = model.fit(\n",
        "    X_train, y_train,\n",
        "    epochs=50,\n",
        "    batch_size=256,\n",
        "    callbacks=[early_stopping, reduce_lr, checkpoint],\n",
        "    verbose=2\n",
        ")\n",
        "\n",
        "# -- Save training history\n",
        "history_df = pd.DataFrame(history.history)\n",
        "history_df.to_csv('training_history_10.csv', index=False)\n",
        "\n",
        "# -- Plot training history\n",
        "plt.figure(figsize=(14, 5))\n",
        "\n",
        "plt.subplot(1, 2, 1)\n",
        "plt.plot(history.history['loss'], label='Training Loss', color='blue')\n",
        "plt.plot(history.history['val_loss'], label='Validation Loss', color='orange')\n",
        "plt.title('Loss over Epochs')\n",
        "plt.xlabel('Epochs')\n",
        "plt.ylabel('Loss')\n",
        "plt.legend()\n",
        "\n",
        "plt.subplot(1, 2, 2)\n",
        "plt.plot(history.history['accuracy'], label='Training Accuracy', color='green')\n",
        "plt.plot(history.history['val_accuracy'], label='Validation Accuracy', color='red')\n",
        "plt.title('Accuracy over Epochs')\n",
        "plt.xlabel('Epochs')\n",
        "plt.ylabel('Accuracy')\n",
        "plt.legend()\n",
        "\n",
        "plt.tight_layout()\n",
        "plt.show()\n",
        "\n",
        "# -- Evaluate the model\n",
        "loss, accuracy = model.evaluate(X_test, y_test, verbose=1)\n",
        "print(f\"Test Loss: {loss:.4f}\")\n",
        "print(f\"Test Accuracy: {accuracy:.4f}\")\n",
        "\n",
        "# -- Predict and analyze results\n",
        "y_pred_probs = model.predict(X_test)\n",
        "y_pred_classes = (y_pred_probs > 0.5).astype(int).reshape(-1)\n",
        "\n",
        "print(classification_report(y_test, y_pred_classes))\n",
        "\n",
        "# -- Confusion Matrix\n",
        "cm = confusion_matrix(y_test, y_pred_classes)\n",
        "plt.figure(figsize=(6, 5))\n",
        "sns.heatmap(cm, annot=True, fmt='d', cmap='Blues', xticklabels=['Normal', 'Anomaly'], yticklabels=['Normal', 'Anomaly'])\n",
        "plt.title('Confusion Matrix')\n",
        "plt.xlabel('Predicted Label')\n",
        "plt.ylabel('True Label')\n",
        "plt.show()\n",
        "\n",
        "# -- Optional: Save model\n",
        "model.save('anomaly_detection_10_rmsp')"
      ]
    }
  ]
}